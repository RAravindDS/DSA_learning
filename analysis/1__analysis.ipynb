{
 "cells": [
  {
   "cell_type": "markdown",
   "metadata": {},
   "source": [
    "# Apriori Analysis: \n",
    "\n",
    "    Now we can calculate the Big O notation of the code. Basically Time complexity means \"order of magnitude of a statement\" ( it means numbers of times any statement is executing ). Apriori analysis always gives the approximate results. It's independent on both the hardware and the language. Every time when you do this analysis you will always get the similar results. This is the most prefarable way !!"
   ]
  },
  {
   "cell_type": "code",
   "execution_count": 2,
   "metadata": {},
   "outputs": [],
   "source": [
    "# Example1: \n",
    "\n",
    "## find how many times the bellow code is executing;  \n",
    "y = \"\"; z = \"\"; \n",
    "x = y + z \n",
    "\n",
    "## Basically this code is executing just one time. So the order of execution is 1 \n",
    "## we can say;' x = y + z --> O(1)\n"
   ]
  },
  {
   "cell_type": "code",
   "execution_count": null,
   "metadata": {},
   "outputs": [],
   "source": [
    "# Example 2: \n",
    "\n",
    "def main(n): \n",
    "    x = y + z  # ---> O(1)\n",
    "    for i in range(0, n):  # ---> it will run until the value of n. So we can say this as order of n O(n)\n",
    "        x = y + z # ---> O(1)"
   ]
  },
  {
   "cell_type": "code",
   "execution_count": null,
   "metadata": {},
   "outputs": [],
   "source": [
    "# Example 3: \n",
    "\n",
    "def main(n): \n",
    "    x = y + z \n",
    "    for i in range(n): # --> O(n)\n",
    "        x = y + z \n",
    "\n",
    "    for i in range(n): \n",
    "        for j in range(n):  # --> O(n2)\n",
    "             x = y + z \n",
    "\n",
    "\n",
    "\"\"\"\n",
    "Finding the time complexity: \n",
    "\n",
    "= 1 + n + n2  (give priorrity to higher order)\n",
    "= n2 ( so the answer is n2)\n",
    "= O(n2)\n",
    "\n",
    "\"\"\"\n"
   ]
  },
  {
   "cell_type": "code",
   "execution_count": null,
   "metadata": {},
   "outputs": [],
   "source": []
  },
  {
   "cell_type": "code",
   "execution_count": null,
   "metadata": {},
   "outputs": [],
   "source": []
  },
  {
   "cell_type": "code",
   "execution_count": null,
   "metadata": {},
   "outputs": [],
   "source": []
  },
  {
   "cell_type": "code",
   "execution_count": null,
   "metadata": {},
   "outputs": [],
   "source": []
  }
 ],
 "metadata": {
  "kernelspec": {
   "display_name": "Python 3",
   "language": "python",
   "name": "python3"
  },
  "language_info": {
   "codemirror_mode": {
    "name": "ipython",
    "version": 3
   },
   "file_extension": ".py",
   "mimetype": "text/x-python",
   "name": "python",
   "nbconvert_exporter": "python",
   "pygments_lexer": "ipython3",
   "version": "3.10.13"
  }
 },
 "nbformat": 4,
 "nbformat_minor": 2
}
