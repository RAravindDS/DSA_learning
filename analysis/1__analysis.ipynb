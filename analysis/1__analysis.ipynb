{
 "cells": [
  {
   "cell_type": "markdown",
   "metadata": {},
   "source": [
    "# Apriori Analysis: \n",
    "\n",
    "    Now we can calculate the Big O notation of the code. Basically Time complexity means \"order of magnitude of a statement\" ( it means numbers of times any statement is executing ). Apriori analysis always gives the approximate results. It's independent on both the hardware and the language. Every time when you do this analysis you will always get the similar results. This is the most prefarable way !!"
   ]
  },
  {
   "cell_type": "code",
   "execution_count": 2,
   "metadata": {},
   "outputs": [],
   "source": [
    "# Example1: \n",
    "\n",
    "## find how many times the bellow code is executing;  \n",
    "y = \"\"; z = \"\"; \n",
    "x = y + z \n",
    "\n",
    "## Basically this code is executing just one time. So the order of execution is 1 \n",
    "## we can say;' x = y + z --> O(1)\n"
   ]
  },
  {
   "cell_type": "code",
   "execution_count": null,
   "metadata": {},
   "outputs": [],
   "source": [
    "# Example 2: \n",
    "\n",
    "def main(n): \n",
    "    x = y + z  # ---> O(1)\n",
    "    for i in range(0, n):  # ---> it will run until the value of n. So we can say this as order of n O(n)\n",
    "        x = y + z # ---> O(1)"
   ]
  },
  {
   "cell_type": "code",
   "execution_count": null,
   "metadata": {},
   "outputs": [],
   "source": [
    "# Example 3: \n",
    "\n",
    "def main(n): \n",
    "    x = y + z \n",
    "    for i in range(n): # --> O(n)\n",
    "        x = y + z \n",
    "\n",
    "    for i in range(n): \n",
    "        for j in range(n):  # --> O(n2)\n",
    "             x = y + z \n",
    "\n",
    "\n",
    "\"\"\"\n",
    "Finding the time complexity: \n",
    "\n",
    "= 1 + n + n2  (give priorrity to higher order)\n",
    "= n2 ( so the answer is n2)\n",
    "= O(n2)\n",
    "\n",
    "\"\"\"\n"
   ]
  },
  {
   "cell_type": "code",
   "execution_count": 3,
   "metadata": {},
   "outputs": [],
   "source": [
    "# Example 4: \n",
    "\n",
    "def main(n=5): \n",
    "    i = n \n",
    "    while (i >1): ## -> O(n-1)  (just run this program you will find that this will run for n-1 times, so the order of magnitude is n-1)\n",
    "        i -= 1"
   ]
  },
  {
   "cell_type": "code",
   "execution_count": null,
   "metadata": {},
   "outputs": [],
   "source": [
    "# Example 5: \n",
    "\n",
    "def main(n=10): \n",
    "    i = n \n",
    "    while (i>=1): ## (just run this program multiple times with multiple n values you wiil find this will run half of the n value so the order of magnitude is (0 n/2), in terms of big O notation we can say o(n)\n",
    "        i -= 2  \n",
    "\n",
    "\n",
    "def main(n=10): \n",
    "    i =n \n",
    "    while (i>=1): \n",
    "        i -= 2 ## O(n/3) --> O(n)"
   ]
  },
  {
   "cell_type": "markdown",
   "metadata": {},
   "source": [
    "### Notes: \n",
    "1) Time complexity is basically a loop only. \n",
    "2) Higher loop --> n2+n+1 = O(n2)  (higher the magnitude)\n",
    "3) No loop at all --> this means the constant time complexity "
   ]
  },
  {
   "cell_type": "code",
   "execution_count": null,
   "metadata": {},
   "outputs": [],
   "source": []
  },
  {
   "cell_type": "code",
   "execution_count": null,
   "metadata": {},
   "outputs": [],
   "source": []
  }
 ],
 "metadata": {
  "kernelspec": {
   "display_name": "Python 3",
   "language": "python",
   "name": "python3"
  },
  "language_info": {
   "codemirror_mode": {
    "name": "ipython",
    "version": 3
   },
   "file_extension": ".py",
   "mimetype": "text/x-python",
   "name": "python",
   "nbconvert_exporter": "python",
   "pygments_lexer": "ipython3",
   "version": "3.10.13"
  }
 },
 "nbformat": 4,
 "nbformat_minor": 2
}
